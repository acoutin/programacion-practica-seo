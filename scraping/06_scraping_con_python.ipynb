{
  "nbformat": 4,
  "nbformat_minor": 0,
  "metadata": {
    "colab": {
      "name": "06-scraping con python.ipynb",
      "provenance": []
    },
    "kernelspec": {
      "name": "python3",
      "display_name": "Python 3"
    }
  },
  "cells": [
    {
      "cell_type": "code",
      "metadata": {
        "id": "hUGqRZMcFDyD"
      },
      "source": [
        "import requests\n",
        "from bs4 import BeautifulSoup"
      ],
      "execution_count": 1,
      "outputs": []
    },
    {
      "cell_type": "code",
      "metadata": {
        "id": "ivpVbov3FumW",
        "outputId": "bfc300a3-6dfb-4a20-ee35-9d7a0862ee5e",
        "colab": {
          "base_uri": "https://localhost:8080/"
        }
      },
      "source": [
        "# Hacer la petición GET\n",
        "page = requests.get('https://seohacks.es')\n",
        "\n",
        "if page.status_code == 200:\n",
        "  # Parsear el contenido\n",
        "  soup = BeautifulSoup(page.text, 'html.parser')\n",
        "  print(soup.title)"
      ],
      "execution_count": 3,
      "outputs": [
        {
          "output_type": "stream",
          "text": [
            "<title>SEO Hacks por Nacho Mascort | Blog sobre SEO</title>\n"
          ],
          "name": "stdout"
        }
      ]
    }
  ]
}