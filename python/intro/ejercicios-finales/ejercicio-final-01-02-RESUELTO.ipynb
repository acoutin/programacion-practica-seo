{
  "nbformat": 4,
  "nbformat_minor": 0,
  "metadata": {
    "colab": {
      "name": "python-basico-ejercicio-final-01.ipynb",
      "provenance": [],
      "collapsed_sections": []
    },
    "kernelspec": {
      "name": "python3",
      "display_name": "Python 3"
    }
  },
  "cells": [
    {
      "cell_type": "code",
      "metadata": {
        "id": "SqdKn78hQYS6"
      },
      "source": [
        "mapping = {\n",
        "  '-': [' ','/','_',',',':',';'],\n",
        "  'a': ['à','á','ä','â'],\n",
        "  'e': ['è','é','ë','ê'],\n",
        "  'i': ['ì','í','ï','î'],\n",
        "  'o': ['ò','ó','ö','ô'],\n",
        "  'u': ['ù','ú','ü','û'],\n",
        "  'n': ['ñ'],\n",
        "  'c': ['ç']\n",
        "}"
      ],
      "execution_count": null,
      "outputs": []
    },
    {
      "cell_type": "code",
      "metadata": {
        "id": "ZtQHWsiQRWU_"
      },
      "source": [
        "def iterReplace(letter):\n",
        "  for key, value in mapping.items():\n",
        "    if letter in value:\n",
        "      return key\n",
        "  return letter"
      ],
      "execution_count": null,
      "outputs": []
    },
    {
      "cell_type": "code",
      "metadata": {
        "id": "Q4bdYsp9Qqtp"
      },
      "source": [
        "def slugify(texto, stopwords = None):\n",
        "  letters = texto.lower().strip()\n",
        "\n",
        "  if stopwords:\n",
        "    for stopword in stopwords:\n",
        "      letters = letters.replace(' ' + stopword + ' ', ' ')\n",
        "\n",
        "  goodLetters = list(map(iterReplace, letters))\n",
        "  return ''.join(goodLetters)\n",
        "  "
      ],
      "execution_count": null,
      "outputs": []
    },
    {
      "cell_type": "code",
      "metadata": {
        "id": "5wFU7jZtSUhF",
        "outputId": "026f43e9-9e6d-4a98-8f33-268893f1cb42",
        "colab": {
          "base_uri": "https://localhost:8080/",
          "height": 35
        }
      },
      "source": [
        "slugify('qué hacer después de programar', ['de', 'después'])"
      ],
      "execution_count": null,
      "outputs": [
        {
          "output_type": "execute_result",
          "data": {
            "application/vnd.google.colaboratory.intrinsic+json": {
              "type": "string"
            },
            "text/plain": [
              "'que-hacer-programar'"
            ]
          },
          "metadata": {
            "tags": []
          },
          "execution_count": 47
        }
      ]
    }
  ]
}